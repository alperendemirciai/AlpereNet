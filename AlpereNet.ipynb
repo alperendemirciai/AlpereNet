{
 "cells": [
  {
   "cell_type": "markdown",
   "metadata": {},
   "source": [
    "# let's make neural network from scratch using numpy\n",
    "### Author: Alperen Demirci\n",
    "### Mail: alperendemirci65@gmail.com \n",
    "### Date: 23-03-2024"
   ]
  },
  {
   "cell_type": "markdown",
   "metadata": {},
   "source": [
    "## Introduction\n",
    "In this notebook, I will implement a neural network from scratch using numpy. I will use the MNIST dataset to train the neural network. I will use the leaky ReLU activation function and the cross-entropy loss function. I will also implement the forward and back propagation algorithms to train the neural network.\n",
    "\n",
    "* [1. Importing Libraries](#1)\n",
    "* [2. Load and Preprocess Data](#2)\n",
    "* [3. Neural Network](#3)\n",
    "    * [3.1. AlpereNet](#3.1)\n",
    "\n",
    "* [4. Conclusion](#4)"
   ]
  },
  {
   "cell_type": "markdown",
   "metadata": {},
   "source": [
    "### Importing Libraries <a id=\"1\"></a>"
   ]
  },
  {
   "cell_type": "code",
   "execution_count": 92,
   "metadata": {},
   "outputs": [],
   "source": [
    "import matplotlib.pyplot as plt\n",
    "import numpy as np\n",
    "import pandas as pd\n",
    "from sklearn.model_selection import train_test_split\n",
    "from sklearn.preprocessing import StandardScaler\n",
    "from sklearn.utils import check_random_state"
   ]
  },
  {
   "cell_type": "markdown",
   "metadata": {},
   "source": [
    "### Load and Preprocess Data <a id=\"2\"></a> "
   ]
  },
  {
   "cell_type": "code",
   "execution_count": 93,
   "metadata": {},
   "outputs": [],
   "source": [
    "# Set random seed\n",
    "random_state = check_random_state(42)\n",
    "\n",
    "# Load data from CSV\n",
    "data = pd.read_csv('train.csv')\n",
    "\n",
    "# Separate features and labels\n",
    "X = data.drop(columns=['label'])  # Features\n",
    "y = data['label']  # Labels\n",
    "\n",
    "# Split data into training and testing sets\n",
    "X_train, X_test, y_train, y_test = train_test_split(X, y, train_size=0.8, test_size=0.2, random_state=42, stratify=y)\n",
    "\n",
    "# Standardize features\n",
    "scaler = StandardScaler()\n",
    "X_train = scaler.fit_transform(X_train)\n",
    "X_test = scaler.transform(X_test)\n",
    "\n",
    "# One-hot encode the labels\n",
    "def one_hot_encode(labels, num_classes=10):\n",
    "    num_samples = len(labels)\n",
    "    one_hot_labels = np.zeros((num_classes, num_samples))\n",
    "    one_hot_labels[labels, np.arange(num_samples)] = 1\n",
    "    return one_hot_labels\n"
   ]
  },
  {
   "cell_type": "markdown",
   "metadata": {},
   "source": [
    "* Checking the data shapes"
   ]
  },
  {
   "cell_type": "code",
   "execution_count": 94,
   "metadata": {},
   "outputs": [
    {
     "data": {
      "text/plain": [
       "((33600, 784), (33600,), (8400, 784), (8400,))"
      ]
     },
     "execution_count": 94,
     "metadata": {},
     "output_type": "execute_result"
    }
   ],
   "source": [
    "X_train.shape, y_train.shape, X_test.shape, y_test.shape"
   ]
  },
  {
   "cell_type": "markdown",
   "metadata": {},
   "source": [
    "* Tranforming the data to the desired shape"
   ]
  },
  {
   "cell_type": "code",
   "execution_count": 95,
   "metadata": {},
   "outputs": [
    {
     "data": {
      "text/plain": [
       "((784, 33600), (10, 33600), (784, 8400), (10, 8400))"
      ]
     },
     "execution_count": 95,
     "metadata": {},
     "output_type": "execute_result"
    }
   ],
   "source": [
    "X_train = X_train.T\n",
    "X_test = X_test.T\n",
    "y_train = one_hot_encode(y_train)\n",
    "y_test = one_hot_encode(y_test)\n",
    "\n",
    "X_train.shape, y_train.shape, X_test.shape, y_test.shape"
   ]
  },
  {
   "cell_type": "markdown",
   "metadata": {},
   "source": [
    "### Defining the neural network (MLP) <a id=\"3\"></a>\n",
    "- input layer: 786x128 nodes\n",
    "- hidden layer: 128x64 nodes \n",
    "- hidden layer: 64x32 nodes\n",
    "- output layer: 32x10 nodes"
   ]
  },
  {
   "cell_type": "markdown",
   "metadata": {},
   "source": [
    "### Activation function(s)\n",
    "* sigmoid function\n",
    "* ReLU function\n",
    "* leaky ReLU function\n",
    "* tanh function\n",
    "* softmax function - for output layer since we are dealing with multi-class classification\n",
    "\n",
    "* we have written our code to be able to use **any of these activation functions**"
   ]
  },
  {
   "cell_type": "markdown",
   "metadata": {},
   "source": [
    "### Loss function\n",
    "* cross-entropy loss function"
   ]
  },
  {
   "cell_type": "markdown",
   "metadata": {},
   "source": [
    "### AlpereNet <a id=\"3.1\"></a>\n",
    "* We will define our neural network as a class called AlpereNet\n",
    "* We will implement the forward pass and the backward pass in this class\n",
    "* We will also implement the train and predict methods in this class\n",
    "* We will use the MNIST dataset to train and test our neural network"
   ]
  },
  {
   "cell_type": "code",
   "execution_count": 96,
   "metadata": {},
   "outputs": [],
   "source": [
    "class AlpereNet:\n",
    "    @staticmethod\n",
    "    def sigmoid(x):\n",
    "        return 1 / (1 + np.exp(-x) + 1e-6)\n",
    "    \n",
    "    @staticmethod\n",
    "    def relu(x):\n",
    "        return np.maximum(0, x)\n",
    "    \n",
    "    @staticmethod\n",
    "    def tanh(x):\n",
    "        return np.tanh(x)\n",
    "    \n",
    "    @staticmethod\n",
    "    def leaky_relu(x):\n",
    "        return np.maximum(0.01*x, x)\n",
    "    \n",
    "    @staticmethod\n",
    "    def derivative_leaky_relu(x):\n",
    "        return 0.01 * (x < 0) + 1 * (x > 0)\n",
    "    \n",
    "    @staticmethod\n",
    "    def softmax(x):\n",
    "        exps = np.exp(x)\n",
    "        return exps / (np.sum(exps, axis=0)+1e-6)\n",
    "\n",
    "    @staticmethod\n",
    "    def derivative_sigmoid(x):\n",
    "        return x * (1 - x)\n",
    "    \n",
    "    @staticmethod\n",
    "    def derivative_relu(x):\n",
    "        return 1 * (x > 0)\n",
    "    \n",
    "    @staticmethod\n",
    "    def derivative_tanh(x):\n",
    "        return 1 - x**2\n",
    "\n",
    "    def __init__(self):\n",
    "        self.layers = []\n",
    "        self.weights = []\n",
    "        self.biases = []\n",
    "        self.activation = []\n",
    "        self.derivative = []\n",
    "\n",
    "    def add_layer(self, units, input_shape=None,activation=sigmoid, derivative=derivative_sigmoid):\n",
    "        if input_shape:\n",
    "            self.weights.append(np.random.randn(units, input_shape)*0.01)\n",
    "        else:\n",
    "            self.weights.append(np.random.randn(units, self.weights[-1].shape[0])*0.01)\n",
    "        self.biases.append(np.random.randn(units,1)*0.01)\n",
    "        self.layers.append(np.zeros((units, 1)))\n",
    "        self.activation.append(activation)\n",
    "        self.derivative.append(derivative)\n",
    "\n",
    "    def random_init(self):\n",
    "        for i in range(len(self.weights)):\n",
    "            self.weights[i] = np.random.randn(self.weights[i].shape[0], self.weights[i].shape[1])*0.01\n",
    "            self.biases[i] = np.random.randn(self.biases[i].shape[0], 1)*0.01\n",
    "\n",
    "    def forward(self, X):\n",
    "        if(len(self.layers)==len(self.weights)):\n",
    "            self.layers.insert(0, X)\n",
    "        else:\n",
    "            self.layers[0] = X\n",
    "        for i in range(1,len(self.weights)):\n",
    "            self.layers[i] = self.activation[i-1](np.dot(self.weights[i-1], self.layers[i-1]) + self.biases[i-1])\n",
    "        self.layers[-1] = self.softmax(np.dot(self.weights[-1], self.layers[-2]) + self.biases[-1])\n",
    "        return self.layers[-1]\n",
    "    \n",
    "    def backward(self, y):\n",
    "        m = y.shape[1]\n",
    "        deltas = []\n",
    "        deltas.append((self.layers[-1] - y)*1/m)\n",
    "        for i in range(len(self.layers)-2, 0, -1):\n",
    "            deltas.insert(0, np.dot(self.weights[i].T, deltas[0]) * self.derivative[i-1](self.layers[i]))\n",
    "        return deltas\n",
    "    \n",
    "    def update(self, deltas, lr):\n",
    "        changes = []\n",
    "        for i in range(len(self.weights)):\n",
    "            changes.append(np.sum(np.dot(deltas[i], self.layers[i].T)))      \n",
    "            self.weights[i] -= lr * np.dot(deltas[i], self.layers[i].T)\n",
    "            self.biases[i] -= lr * np.sum(deltas[i], axis=1, keepdims=True)\n",
    "        return self.weights, self.biases, changes\n",
    "\n",
    "    def calculate_loss(self,Y, Y_hat):\n",
    "        m = Y.shape[1]\n",
    "        L_sum = np.sum(np.multiply(Y, np.log(Y_hat+1e-6)))\n",
    "        L = -(1/m) * L_sum\n",
    "        return L\n",
    "        \n",
    "    def fit(self, X, y, epochs=100, lr=0.01):\n",
    "        self.random_init()\n",
    "        loss = []\n",
    "        for epoch in range(epochs):\n",
    "            self.forward(X)\n",
    "            deltas = self.backward(y)\n",
    "            for i in range(len(self.weights)):\n",
    "                self.weights[i] -= lr * np.dot(deltas[i], self.layers[i].T)\n",
    "                self.biases[i] -= lr * np.sum(deltas[i], axis=1, keepdims=True)\n",
    "         \n",
    "            if epoch % 10 == 0:\n",
    "                print(f'Epoch {epoch} Loss: {self.calculate_loss(y, self.layers[-1])}')\n",
    "                loss.append(self.calculate_loss(y, self.layers[-1]))\n",
    "        return loss\n",
    "    \n",
    "    def predict(self, X):\n",
    "        return self.forward(X).argmax(axis=0)"
   ]
  },
  {
   "cell_type": "markdown",
   "metadata": {},
   "source": [
    "### so how can we train our neural network?\n",
    "* It's really simple actually. We will use the backpropagation algorithm to train our neural network. The backpropagation algorithm is an algorithm that calculates the gradient of the loss function with respect to the weights of the network. We will use this gradient to update the weights of the network using the gradient descent algorithm.\n",
    "\n",
    "* First you have to create an instance of a AlpereNet class. Then you can train the network using the **fit** method. You can also use the predict method to make predictions using the trained network.\n"
   ]
  },
  {
   "cell_type": "code",
   "execution_count": 97,
   "metadata": {},
   "outputs": [],
   "source": [
    "AlpNet = AlpereNet()\n",
    "AlpNet.add_layer(128, 784, activation=AlpereNet.leaky_relu, derivative=AlpereNet.derivative_leaky_relu)\n",
    "AlpNet.add_layer(64, activation=AlpNet.leaky_relu, derivative=AlpNet.derivative_leaky_relu)\n",
    "AlpNet.add_layer(32, activation=AlpNet.leaky_relu, derivative=AlpNet.derivative_leaky_relu)\n",
    "AlpNet.add_layer(10, activation=AlpereNet.softmax, derivative=AlpereNet.softmax)"
   ]
  },
  {
   "cell_type": "markdown",
   "metadata": {},
   "source": [
    "* just checking if our forward and backward propagation functions are working correctly"
   ]
  },
  {
   "cell_type": "code",
   "execution_count": 98,
   "metadata": {},
   "outputs": [
    {
     "data": {
      "text/html": [
       "<div>\n",
       "<style scoped>\n",
       "    .dataframe tbody tr th:only-of-type {\n",
       "        vertical-align: middle;\n",
       "    }\n",
       "\n",
       "    .dataframe tbody tr th {\n",
       "        vertical-align: top;\n",
       "    }\n",
       "\n",
       "    .dataframe thead th {\n",
       "        text-align: right;\n",
       "    }\n",
       "</style>\n",
       "<table border=\"1\" class=\"dataframe\">\n",
       "  <thead>\n",
       "    <tr style=\"text-align: right;\">\n",
       "      <th></th>\n",
       "      <th>0</th>\n",
       "      <th>1</th>\n",
       "      <th>2</th>\n",
       "      <th>3</th>\n",
       "      <th>4</th>\n",
       "      <th>5</th>\n",
       "      <th>6</th>\n",
       "      <th>7</th>\n",
       "      <th>8</th>\n",
       "      <th>9</th>\n",
       "    </tr>\n",
       "  </thead>\n",
       "  <tbody>\n",
       "    <tr>\n",
       "      <th>0</th>\n",
       "      <td>0.103156</td>\n",
       "      <td>0.099368</td>\n",
       "      <td>0.099411</td>\n",
       "      <td>0.099888</td>\n",
       "      <td>0.100960</td>\n",
       "      <td>0.099173</td>\n",
       "      <td>0.099782</td>\n",
       "      <td>0.100792</td>\n",
       "      <td>0.098891</td>\n",
       "      <td>0.098579</td>\n",
       "    </tr>\n",
       "    <tr>\n",
       "      <th>1</th>\n",
       "      <td>0.103160</td>\n",
       "      <td>0.099369</td>\n",
       "      <td>0.099402</td>\n",
       "      <td>0.099888</td>\n",
       "      <td>0.100958</td>\n",
       "      <td>0.099179</td>\n",
       "      <td>0.099784</td>\n",
       "      <td>0.100792</td>\n",
       "      <td>0.098888</td>\n",
       "      <td>0.098580</td>\n",
       "    </tr>\n",
       "    <tr>\n",
       "      <th>2</th>\n",
       "      <td>0.103155</td>\n",
       "      <td>0.099367</td>\n",
       "      <td>0.099417</td>\n",
       "      <td>0.099891</td>\n",
       "      <td>0.100960</td>\n",
       "      <td>0.099170</td>\n",
       "      <td>0.099779</td>\n",
       "      <td>0.100791</td>\n",
       "      <td>0.098891</td>\n",
       "      <td>0.098579</td>\n",
       "    </tr>\n",
       "    <tr>\n",
       "      <th>3</th>\n",
       "      <td>0.103149</td>\n",
       "      <td>0.099385</td>\n",
       "      <td>0.099409</td>\n",
       "      <td>0.099883</td>\n",
       "      <td>0.100953</td>\n",
       "      <td>0.099165</td>\n",
       "      <td>0.099788</td>\n",
       "      <td>0.100778</td>\n",
       "      <td>0.098893</td>\n",
       "      <td>0.098597</td>\n",
       "    </tr>\n",
       "    <tr>\n",
       "      <th>4</th>\n",
       "      <td>0.103154</td>\n",
       "      <td>0.099365</td>\n",
       "      <td>0.099408</td>\n",
       "      <td>0.099887</td>\n",
       "      <td>0.100962</td>\n",
       "      <td>0.099176</td>\n",
       "      <td>0.099784</td>\n",
       "      <td>0.100788</td>\n",
       "      <td>0.098896</td>\n",
       "      <td>0.098581</td>\n",
       "    </tr>\n",
       "  </tbody>\n",
       "</table>\n",
       "</div>"
      ],
      "text/plain": [
       "          0         1         2         3         4         5         6  \\\n",
       "0  0.103156  0.099368  0.099411  0.099888  0.100960  0.099173  0.099782   \n",
       "1  0.103160  0.099369  0.099402  0.099888  0.100958  0.099179  0.099784   \n",
       "2  0.103155  0.099367  0.099417  0.099891  0.100960  0.099170  0.099779   \n",
       "3  0.103149  0.099385  0.099409  0.099883  0.100953  0.099165  0.099788   \n",
       "4  0.103154  0.099365  0.099408  0.099887  0.100962  0.099176  0.099784   \n",
       "\n",
       "          7         8         9  \n",
       "0  0.100792  0.098891  0.098579  \n",
       "1  0.100792  0.098888  0.098580  \n",
       "2  0.100791  0.098891  0.098579  \n",
       "3  0.100778  0.098893  0.098597  \n",
       "4  0.100788  0.098896  0.098581  "
      ]
     },
     "execution_count": 98,
     "metadata": {},
     "output_type": "execute_result"
    }
   ],
   "source": [
    "pred = AlpNet.forward(X_train)\n",
    "pred = pd.DataFrame(pred)\n",
    "pred = pred.T\n",
    "pred.head()"
   ]
  },
  {
   "cell_type": "code",
   "execution_count": 100,
   "metadata": {},
   "outputs": [
    {
     "name": "stdout",
     "output_type": "stream",
     "text": [
      "Epoch 0 Loss: 2.302544612195333\n",
      "Epoch 10 Loss: 2.301639263678173\n",
      "Epoch 20 Loss: 2.3013176845682417\n",
      "Epoch 30 Loss: 2.3012024091138352\n",
      "Epoch 40 Loss: 2.3011597438540448\n",
      "Epoch 50 Loss: 2.3011426115300333\n",
      "Epoch 60 Loss: 2.301134408751874\n",
      "Epoch 70 Loss: 2.301129238651431\n",
      "Epoch 80 Loss: 2.3011249700832286\n",
      "Epoch 90 Loss: 2.3011208068292284\n",
      "Epoch 100 Loss: 2.301116414243861\n",
      "Epoch 110 Loss: 2.3011116127332985\n",
      "Epoch 120 Loss: 2.301106273018221\n",
      "Epoch 130 Loss: 2.3011002604988584\n",
      "Epoch 140 Loss: 2.301093421988123\n",
      "Epoch 150 Loss: 2.3010855652781057\n",
      "Epoch 160 Loss: 2.3010764502440257\n",
      "Epoch 170 Loss: 2.3010657590894694\n",
      "Epoch 180 Loss: 2.3010530725355824\n",
      "Epoch 190 Loss: 2.301037829126215\n",
      "Epoch 200 Loss: 2.3010192378724543\n",
      "Epoch 210 Loss: 2.300996143590405\n",
      "Epoch 220 Loss: 2.3009668558374403\n",
      "Epoch 230 Loss: 2.300928772871939\n",
      "Epoch 240 Loss: 2.300877741702758\n",
      "Epoch 250 Loss: 2.300807065689847\n",
      "Epoch 260 Loss: 2.300705136198178\n",
      "Epoch 270 Loss: 2.300549642320998\n",
      "Epoch 280 Loss: 2.3002950899080803\n",
      "Epoch 290 Loss: 2.299832793882912\n",
      "Epoch 300 Loss: 2.2988640989413254\n",
      "Epoch 310 Loss: 2.2962945698344868\n",
      "Epoch 320 Loss: 2.28489847831954\n",
      "Epoch 330 Loss: 2.1225088121324864\n",
      "Epoch 340 Loss: 1.9474583138058401\n",
      "Epoch 350 Loss: 1.6488459460987654\n",
      "Epoch 360 Loss: 1.5756621381715017\n",
      "Epoch 370 Loss: 1.5493648925731625\n",
      "Epoch 380 Loss: 1.5163413228723053\n",
      "Epoch 390 Loss: 1.4873131241744377\n",
      "Epoch 400 Loss: 1.5953461478797504\n",
      "Epoch 410 Loss: 1.1978333046133518\n",
      "Epoch 420 Loss: 5.5164797983043465\n",
      "Epoch 430 Loss: 2.386684637216194\n",
      "Epoch 440 Loss: 2.097723722477055\n",
      "Epoch 450 Loss: 1.4607009246064677\n",
      "Epoch 460 Loss: 1.647664327962009\n",
      "Epoch 470 Loss: 1.1491626277039566\n",
      "Epoch 480 Loss: 1.064274666849401\n",
      "Epoch 490 Loss: 0.9402163840282207\n",
      "Epoch 500 Loss: 0.7275599892350706\n",
      "Epoch 510 Loss: 0.6331542302452515\n",
      "Epoch 520 Loss: 0.5575026729709531\n",
      "Epoch 530 Loss: 0.4552570159087847\n",
      "Epoch 540 Loss: 0.37146916256612056\n",
      "Epoch 550 Loss: 0.38905430682697745\n",
      "Epoch 560 Loss: 0.4581009491814704\n",
      "Epoch 570 Loss: 0.3057598510277361\n",
      "Epoch 580 Loss: 0.25677771155864804\n",
      "Epoch 590 Loss: 0.226875653957797\n",
      "Epoch 600 Loss: 0.20426107684620484\n",
      "Epoch 610 Loss: 0.1858230070684978\n",
      "Epoch 620 Loss: 0.16999196658908172\n",
      "Epoch 630 Loss: 0.1560455541706453\n",
      "Epoch 640 Loss: 0.14384589198207476\n",
      "Epoch 650 Loss: 0.13289899989484372\n",
      "Epoch 660 Loss: 0.12313139232111414\n",
      "Epoch 670 Loss: 0.11453497253833145\n",
      "Epoch 680 Loss: 0.10677294017995548\n",
      "Epoch 690 Loss: 0.0997386803544836\n",
      "Epoch 700 Loss: 0.09337998596214205\n",
      "Epoch 710 Loss: 0.0875600279874778\n",
      "Epoch 720 Loss: 0.08219845343387822\n",
      "Epoch 730 Loss: 0.0771601926909462\n",
      "Epoch 740 Loss: 0.07250808184970862\n",
      "Epoch 750 Loss: 0.06867339894951419\n",
      "Epoch 760 Loss: 0.06719973657001428\n",
      "Epoch 770 Loss: 0.07065786949427313\n",
      "Epoch 780 Loss: 0.05877401714354543\n",
      "Epoch 790 Loss: 0.053238844203471115\n",
      "Epoch 800 Loss: 0.04997868176783629\n",
      "Epoch 810 Loss: 0.04696773965551313\n",
      "Epoch 820 Loss: 0.04416945695647854\n",
      "Epoch 830 Loss: 0.041559671651189185\n",
      "Epoch 840 Loss: 0.0391405123094977\n",
      "Epoch 850 Loss: 0.03688022473529407\n",
      "Epoch 860 Loss: 0.03478187496986652\n",
      "Epoch 870 Loss: 0.03280505552863077\n",
      "Epoch 880 Loss: 0.030955192657396526\n",
      "Epoch 890 Loss: 0.029238448263254897\n",
      "Epoch 900 Loss: 0.02764037855766887\n",
      "Epoch 910 Loss: 0.02614079777745842\n",
      "Epoch 920 Loss: 0.024732958194362158\n",
      "Epoch 930 Loss: 0.02338813552760841\n",
      "Epoch 940 Loss: 0.02211909903673917\n",
      "Epoch 950 Loss: 0.020927271015825394\n",
      "Epoch 960 Loss: 0.019811840297485273\n",
      "Epoch 970 Loss: 0.018765266251526615\n",
      "Epoch 980 Loss: 0.017788702393696117\n",
      "Epoch 990 Loss: 0.01688534611871003\n"
     ]
    }
   ],
   "source": [
    "losses2= AlpNet.fit(X_train, y_train, epochs=1000, lr=0.5)"
   ]
  },
  {
   "cell_type": "markdown",
   "metadata": {},
   "source": [
    "* let's check our accuracy on both training and test data"
   ]
  },
  {
   "cell_type": "code",
   "execution_count": 102,
   "metadata": {},
   "outputs": [
    {
     "name": "stdout",
     "output_type": "stream",
     "text": [
      "Test Accuracy: 0.9575\n",
      "Train Accuracy: 0.9980654761904761\n",
      "Final Loss: 0.01688534611871003\n",
      "Shapes of the data:\n",
      "(784, 33600) (10, 33600) (784, 8400) (10, 8400)\n"
     ]
    }
   ],
   "source": [
    "print(f'Test Accuracy: {np.mean(AlpNet.predict(X_test) == y_test.argmax(axis=0))}')\n",
    "print(f'Train Accuracy: {np.mean(AlpNet.predict(X_train) == y_train.argmax(axis=0))}')\n",
    "print(f'Final Loss: {losses2[-1]}')\n",
    "print(\"Shapes of the data:\")\n",
    "print(X_train.shape, y_train.shape, X_test.shape, y_test.shape)"
   ]
  },
  {
   "cell_type": "markdown",
   "metadata": {},
   "source": [
    "* let's plot the loss and accuracy for each epoch on training data"
   ]
  },
  {
   "cell_type": "code",
   "execution_count": 103,
   "metadata": {},
   "outputs": [
    {
     "data": {
      "image/png": "[encoded data removed]",
      "text/plain": [
       "<Figure size 640x480 with 1 Axes>"
      ]
     },
     "metadata": {},
     "output_type": "display_data"
    }
   ],
   "source": [
    "plt.plot(losses2)\n",
    "plt.title('Loss vs Epochs')\n",
    "plt.xlabel('Epochs')\n",
    "plt.ylabel('Loss')\n",
    "plt.show()"
   ]
  },
  {
   "cell_type": "code",
   "execution_count": 104,
   "metadata": {},
   "outputs": [
    {
     "name": "stdout",
     "output_type": "stream",
     "text": [
      "Accuracy: 0.9575\n"
     ]
    }
   ],
   "source": [
    "predictions = AlpNet.predict(X_test)\n",
    "y_test_a = y_test.argmax(axis=0)\n",
    "print(f'Accuracy: {np.mean(predictions == y_test_a)}')"
   ]
  },
  {
   "cell_type": "markdown",
   "metadata": {},
   "source": [
    "* let's check our predicted and ground truth labels to see how does our model behave on test data"
   ]
  },
  {
   "cell_type": "code",
   "execution_count": 105,
   "metadata": {},
   "outputs": [
    {
     "name": "stdout",
     "output_type": "stream",
     "text": [
      "Predicted labels:  1    3752\n",
      "7    3519\n",
      "3    3480\n",
      "2    3348\n",
      "9    3344\n",
      "6    3312\n",
      "0    3307\n",
      "4    3259\n",
      "8    3249\n",
      "5    3030\n",
      "Name: count, dtype: int64\n",
      "Real labels:  1    3747\n",
      "7    3521\n",
      "3    3481\n",
      "9    3350\n",
      "2    3342\n",
      "6    3310\n",
      "0    3305\n",
      "4    3258\n",
      "8    3250\n",
      "5    3036\n",
      "Name: count, dtype: int64\n"
     ]
    }
   ],
   "source": [
    "preds = AlpNet.predict(X_train)\n",
    "y_train_a = y_train.argmax(axis=0)\n",
    "preds = pd.Series(preds)\n",
    "y_train_a = pd.Series(y_train_a)\n",
    "print(\"Predicted labels: \",preds.value_counts())\n",
    "print(\"Real labels: \",y_train_a.value_counts())"
   ]
  },
  {
   "cell_type": "markdown",
   "metadata": {},
   "source": [
    "* let's save the model parameters to use it later"
   ]
  },
  {
   "cell_type": "code",
   "execution_count": 108,
   "metadata": {},
   "outputs": [],
   "source": [
    "import copy\n",
    "weights_trained = copy.deepcopy(AlpNet.weights)\n",
    "biases_trained = copy.deepcopy(AlpNet.biases)"
   ]
  },
  {
   "cell_type": "markdown",
   "metadata": {},
   "source": [
    "* here we have a two functions which we can see some samples from the test data and their predicted labels"
   ]
  },
  {
   "cell_type": "code",
   "execution_count": 109,
   "metadata": {},
   "outputs": [],
   "source": [
    "def plot_image(image):\n",
    "    plt.imshow(image.reshape(28, 28), cmap='gray')\n",
    "    plt.axis('off')\n",
    "    plt.show()\n",
    "\n",
    "def plot_image_predictions(images, predictions):\n",
    "    fig, axes = plt.subplots(2, 5, figsize=(10, 5))\n",
    "    for i, ax in enumerate(axes.flat):\n",
    "        ax.imshow(images[i].reshape(28, 28), cmap='gray')\n",
    "        ax.axis('off')\n",
    "        ax.set_title(f'Predicted: {predictions[i]}')\n",
    "    plt.show()"
   ]
  },
  {
   "cell_type": "code",
   "execution_count": 110,
   "metadata": {},
   "outputs": [
    {
     "data": {
      "image/png": "[encoded data removed]",
      "text/plain": [
       "<Figure size 1000x500 with 10 Axes>"
      ]
     },
     "metadata": {},
     "output_type": "display_data"
    }
   ],
   "source": [
    "plot_image_predictions(X_test.T, predictions)"
   ]
  },
  {
   "cell_type": "markdown",
   "metadata": {},
   "source": [
    "### Conclusion <a id=\"4\"></a>\n",
    "* In this notebook, I implemented a neural network from scratch using numpy. I used the MNIST dataset to train the neural network. I used the ReLU activation function and the cross-entropy loss function. I also implemented the backpropagation algorithm to train the neural network. I achieved an accuracy of **95.75%** on the test data.\n",
    "* It took around **4 minutes** to train the neural network on the MNIST dataset using a CPU. Learning rate is 0.5 and the number of epochs is 1000. CPU is MacBook Pro M3 Pro 11 cores.\n",
    "\n",
    "* I hope you enjoyed this notebook and found it helpful. If you have any questions or suggestions, feel free to leave a comment below.\n",
    "\n",
    "* Thank you for reading!\n"
   ]
  }
 ],
 "metadata": {
  "kernelspec": {
   "display_name": "Python 3",
   "language": "python",
   "name": "python3"
  },
  "language_info": {
   "codemirror_mode": {
    "name": "ipython",
    "version": 3
   },
   "file_extension": ".py",
   "mimetype": "text/x-python",
   "name": "python",
   "nbconvert_exporter": "python",
   "pygments_lexer": "ipython3",
   "version": "3.12.0"
  }
 },
 "nbformat": 4,
 "nbformat_minor": 2
}
